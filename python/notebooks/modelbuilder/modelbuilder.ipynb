{
 "cells": [
  {
   "cell_type": "markdown",
   "id": "a4706839",
   "metadata": {},
   "source": [
    "# Model builder"
   ]
  },
  {
   "cell_type": "code",
   "execution_count": null,
   "id": "f98b2c14",
   "metadata": {},
   "outputs": [],
   "source": []
  },
  {
   "cell_type": "code",
   "execution_count": 20,
   "id": "7bbb0a15",
   "metadata": {},
   "outputs": [],
   "source": [
    "import numpy as np\n",
    "import math\n",
    "\n",
    "from sacio import write_sac_ascii"
   ]
  },
  {
   "cell_type": "code",
   "execution_count": null,
   "id": "1e2bef0b",
   "metadata": {},
   "outputs": [],
   "source": []
  },
  {
   "cell_type": "code",
   "execution_count": 8,
   "id": "986653e0",
   "metadata": {},
   "outputs": [],
   "source": [
    "#loading default values\n",
    "#turn this to a function\n",
    "\n",
    "#simparams\n",
    "simparams={}\n",
    "\n",
    "simparams[\"boundary_conditions\"]=[2.0, 2.0, 2.0, 2.0, 2.0, 2.0]\n",
    "simparams[\"cosmological_simulation\"]=0\n",
    "simparams[\"current_iteration\"]=0\n",
    "simparams[\"current_time\"]=0\n",
    "simparams[\"dimensionality\"]=3\n",
    "simparams[\"domain_dimensions\"]=[16,16,16]\n",
    "simparams[\"domain_left_edge\"]=[0,0, 0.0]\n",
    "simparams[\"domain_right_edge\"]=[0, 0, 0]\n",
    "simparams[\"eta\"]=0.0\n",
    "simparams[\"adiab\"]=1.0\n",
    "simparams[\"field_ordering\"]=1\n",
    "simparams[\"gamma\"]=1.66666667\n",
    "simparams[\"gravity0\"]=0.0\n",
    "simparams[\"gravity1\"]=0.0\n",
    "simparams[\"gravity2\"]=0.0\n",
    "simparams[\"nu\"]=0.0\n",
    "simparams[\"num_ghost_zones\"]=0\n",
    "simparams[\"refine_by\"]=0\n",
    "simparams[\"unique_identifier\"]='notset'\n",
    "simparams[\"nw\"]=13  # %number of fields\n",
    "simparams[\"neqpar\"]=7 # %number of equation parameters\n",
    "\n",
    "#simgridinfo\n",
    "simgridinfo={}\n",
    "simgridinfo[\"ndimensions\"]=3\n",
    "#%grid_dimensions=64*ones(3,1);\n",
    "simgridinfo[\"grid_dimensions\"]=[128,128,128]\n",
    "simgridinfo[\"grid_left_index\"]=[1,1,1]\n",
    "simgridinfo[\"grid_right_index\"]=[0,0,0]\n",
    "simgridinfo[\"grid_level\"]=0\n",
    "simgridinfo[\"grid_parent_id\"]=0\n",
    "simgridinfo[\"grid_particle_count\"]=0\n",
    "simgridinfo[\"data_software\"]='matsac'\n",
    "simgridinfo[\"data_software_version\"]='0.1'\n",
    "\n",
    "#simdata\n",
    "simdata={}\n",
    "simdata[\"simparams\"]=simparams\n",
    "simdata[\"gridinfo\"]=simgridinfo\n",
    "        \n",
    "gds=simgridinfo[\"grid_dimensions\"]\n",
    "simdata[\"w\"]=np.zeros((gds[0],gds[1],gds[2],simgridinfo[\"ndimensions\"]+simparams[\"nw\"]))\n",
    "\n",
    "\n"
   ]
  },
  {
   "cell_type": "code",
   "execution_count": 11,
   "id": "43a0ab15",
   "metadata": {},
   "outputs": [],
   "source": [
    "\n",
    "\n",
    "newfilename='3D_128_4Mm_asc.ini';\n",
    "#%newfilename='/data/cs1mkg/smaug/configs/3D_128_4Mm_bin.ini';\n",
    "\n",
    "consts={}\n",
    "consts[\"mu\"]=0.6e0 #mu_therm\n",
    "consts[\"R\"]=8.31e3\n",
    "consts[\"fgamma\"]=1.66666667e0\n",
    "consts[\"ggg\"]=-274.0e0 #% acceleration due to gravity on the sun\n",
    "consts[\"mu\"]=4*math.pi/1.0e7 #magnetic permeability\n",
    "\n",
    "\n",
    "ngx1=2\n",
    "ngx2=2\n",
    "ngx3=2\n",
    "\n",
    "it=0\n",
    "time=0\n",
    "ndim=3\n",
    "neqpar=7\n",
    "nw=13\n",
    "nx1=128\n",
    "nx2=128\n",
    "nx3=128\n",
    "\n",
    "\n",
    "gamma=1.666667\n",
    "adiab=1.0\n",
    "eta=0\n",
    "g1=-274\n",
    "g2=0\n",
    "g3=0\n",
    "       \n",
    "xmin=133333.33\n",
    "ymin=1953.1\n",
    "zmin=1953.1\n",
    "xmax=5955555.6e0\n",
    "ymax=4.0e6\n",
    "zmax=4.0e6\n",
    "       \n",
    "dx=(xmax-xmin)/(nx1-2*ngx1)\n",
    "dy=(ymax-ymin)/(nx2-2*ngx2)\n",
    "dz=(zmax-zmin)/(nx3-2*ngx3)\n",
    "       \n",
    "       \n",
    "xx=np.zeros((nx1,nx2,nx3))\n",
    "yy=np.zeros((nx1,nx2,nx3))\n",
    "zz=np.zeros((nx1,nx2,nx3))\n",
    "\n",
    "rheight=np.zeros(nx1)\n",
    "       \n",
    "       \n",
    "for i in range(nx1):\n",
    "    for j in range(nx2):\n",
    "        for k in range(nx3):\n",
    "            xx[i,j,k]=(xmin-ngx1*dx)+i*dx\n",
    "            rheight[i]=(xmin-ngx1*dx)+i*dx\n",
    "            yy[i,j,k]=(ymin-ngx1*dx)+dy*j\n",
    "            zz[i,j,k]=(zmin-ngx1*dx)+dz*k\n",
    "      \n",
    "simdata[\"w\"]=np.zeros((nx1,nx2,nx3,nw))\n",
    "\n",
    "\n",
    "\n",
    "\n",
    "simparams[\"current_iteration\"]=it\n",
    "simparams[\"current_time\"]=time\n",
    "simparams[\"dimensionality\"]=ndim\n",
    "simparams[\"domain_dimensions\"]=[nx1,nx2,nx3]\n",
    "#         simparams.domain_left_edge=[0;0; 0.0];\n",
    "#         simparams.domain_right_edge=[0; 0; 0];\n",
    "simparams[\"eta\"]=eta\n",
    "simparams[\"adiab\"]=adiab\n",
    "#        field_ordering=1;\n",
    "simparams[\"gamma\"]=gamma\n",
    "simparams[\"gravity0\"]=g1\n",
    "simparams[\"gravity1\"]=g2\n",
    "simparams[\"gravity2\"]=g3\n",
    "        \n",
    "        \n",
    "        \n",
    "        \n",
    "simparams[\"domain_left_edge\"]=[xx[0,0,0],yy[0,0,0],zz[0,0,0]]      \n",
    "simparams[\"domain_right_edge\"]=[xx[nx1-1,0,0],yy[0,nx2-1,0],zz[0,0,nx3-1]]\n",
    "\n",
    "\n",
    "        \n",
    "simgridinfo[\"grid_dimensions\"]=[nx1,nx2,nx3]\n"
   ]
  },
  {
   "cell_type": "code",
   "execution_count": 12,
   "id": "d5d7fae4",
   "metadata": {},
   "outputs": [],
   "source": [
    "#set up the magnetic field generation parameters\n",
    "Bmax=0.005\n",
    "Bmin=0.0002\n",
    "z_shift=0.0\n",
    "x_shift=0.0\n",
    "y_shift=0.0\n",
    "\n",
    "A=0.5\n",
    "sscale=1.0e6\n",
    "b0z_top=0.08\n",
    "\n",
    "f0=2.0e6  #tube opening parameter\n",
    "ab0z=20.0 #  bz amplitude\n",
    "r2=0.5e6 #tube radius\n",
    "\n",
    "\n"
   ]
  },
  {
   "cell_type": "code",
   "execution_count": 13,
   "id": "aced6341",
   "metadata": {},
   "outputs": [],
   "source": [
    "#parameters for setting up atmosphere\n",
    "pars={}\n",
    "pars[\"ytr\"]=2.0e6\n",
    "pars[\"wtr\"]=0.1e6\n",
    "pars[\"tc\"]=1.8e6\n",
    "pars[\"tch\"]=8000"
   ]
  },
  {
   "cell_type": "code",
   "execution_count": null,
   "id": "e4f16094",
   "metadata": {},
   "outputs": [],
   "source": [
    "#parameters setting up hydrostatic density\n",
    "rho0=1.17e-4  #rho0=\n",
    "p0=2.7865e-4  #p0="
   ]
  },
  {
   "cell_type": "markdown",
   "id": "073762fb",
   "metadata": {},
   "source": [
    "# Generate parametric model"
   ]
  },
  {
   "cell_type": "code",
   "execution_count": 1,
   "id": "45897532",
   "metadata": {},
   "outputs": [],
   "source": [
    "#temperature generation function\n",
    "#generate the temperature at a height\n",
    "def temp(h,pars):\n",
    "    tmptemp=1+math.tanh((h-pars[\"ytr\"])/pars[\"wtr\"])\n",
    "    tmptemp=pars[\"tch\"]+((pars[\"tc\"]-pars[\"tch\"])/2.0)*tmptemp\n",
    "    return tmptemp\n",
    "\n",
    "def hydrodens(h, ii, nx1, deltah,rtemp,consts,rho0):\n",
    "    t0=rtemp[0]\n",
    "    rsum=0\n",
    "    if ii==0:\n",
    "        hscale=-consts[\"R\"]*t0/(consts[\"mutherm\"]*consts[\"ggg\"])\n",
    "        rsum=rsum+deltah/hscale\n",
    "    else:\n",
    "        for i in range(ii+1):\n",
    "            hscale=-consts[\"R\"]*rtemp[i]/(consts[\"mutherm\"]*consts[\"ggg\"])\n",
    "            rsum=rsum+deltah/hscale\n",
    "        \n",
    "    dens=rsum*(t0/rtemp[ii])*math.exp(-rsum)    \n",
    "    return dens\n",
    "\n",
    "def hydropres():\n",
    "    return\n"
   ]
  },
  {
   "cell_type": "code",
   "execution_count": 16,
   "id": "08261911",
   "metadata": {},
   "outputs": [],
   "source": [
    "#calculate heights and temperatures\n",
    "rtemp=np.zeros(nx1)\n",
    "i=0\n",
    "for h in rheight:\n",
    "    rtemp[i]=temp(h,pars)\n",
    "    i=i+1"
   ]
  },
  {
   "cell_type": "code",
   "execution_count": null,
   "id": "770a6a28",
   "metadata": {},
   "outputs": [],
   "source": [
    "#calculate hydrostatically balanced density hydrodens\n",
    "i=0\n",
    "t0=rtemp[0]\n",
    "ld=np.zeros(nx1)\n",
    "for h in rheight:\n",
    "    ld(i)=hydrodens(h,i,nx1,deltah,rtemp,consts)\n",
    "    i=i+1"
   ]
  },
  {
   "cell_type": "code",
   "execution_count": null,
   "id": "b40ab908",
   "metadata": {},
   "outputs": [],
   "source": [
    "#calculate hydrostatically balance pressure"
   ]
  },
  {
   "cell_type": "code",
   "execution_count": null,
   "id": "40cd3868",
   "metadata": {},
   "outputs": [],
   "source": [
    "# calculate energy\n",
    "energg=pres/(consts[\"fgamma\"]-1)"
   ]
  },
  {
   "cell_type": "code",
   "execution_count": null,
   "id": "9614aef0",
   "metadata": {},
   "outputs": [],
   "source": [
    "#rebuild the model loop over i,j,k set simdata[\"w\"]"
   ]
  },
  {
   "cell_type": "code",
   "execution_count": null,
   "id": "1eea7d63",
   "metadata": {},
   "outputs": [],
   "source": [
    "#generate static field"
   ]
  },
  {
   "cell_type": "code",
   "execution_count": null,
   "id": "7cf8aea4",
   "metadata": {},
   "outputs": [],
   "source": [
    "#apply hydrostatic balance"
   ]
  },
  {
   "cell_type": "code",
   "execution_count": null,
   "id": "838baa99",
   "metadata": {},
   "outputs": [],
   "source": [
    "#write the sac3d output\n",
    "\n",
    "#set modelinfo\n",
    "#    header=modelinfo[0]\n",
    "#    dim=modelinfo[6]\n",
    "#    ndim=modelinfo[3]\n",
    "#    nfields=modelinfo[5]\n",
    "#    time=modelinfo[2]\n",
    "#    nits=modelinfo[1]\n",
    "#    nvar=modelinfo[4]\n",
    "modelinfo=[]\n",
    "modelinfo.append('Header info')\n",
    "\n",
    "\n",
    "write_sac_ascii(newfilename, simdata[\"w\"], modelinfo)"
   ]
  }
 ],
 "metadata": {
  "kernelspec": {
   "display_name": "Python 3 (ipykernel)",
   "language": "python",
   "name": "python3"
  },
  "language_info": {
   "codemirror_mode": {
    "name": "ipython",
    "version": 3
   },
   "file_extension": ".py",
   "mimetype": "text/x-python",
   "name": "python",
   "nbconvert_exporter": "python",
   "pygments_lexer": "ipython3",
   "version": "3.11.4"
  }
 },
 "nbformat": 4,
 "nbformat_minor": 5
}
