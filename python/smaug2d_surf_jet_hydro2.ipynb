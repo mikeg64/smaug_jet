{
 "cells": [
  {
   "cell_type": "code",
   "execution_count": 1,
   "metadata": {},
   "outputs": [],
   "source": [
    "import numpy as np\n",
    "from numpy import *\n",
    "import scipy.io\n",
    "from scipy import special\n",
    "import matplotlib\n",
    "import matplotlib.pyplot as plt\n",
    "from mpl_toolkits.mplot3d import Axes3D\n",
    "from matplotlib import cm\n",
    "from matplotlib.ticker import LinearLocator, FormatStrFormatter\n",
    "import struct\n",
    "\n",
    "#%matplotlib inline  "
   ]
  },
  {
   "cell_type": "code",
   "execution_count": 83,
   "metadata": {},
   "outputs": [
    {
     "name": "stdout",
     "output_type": "stream",
     "text": [
      "25165824\n"
     ]
    }
   ],
   "source": [
    "file = open('../../smaug_jet_data/out/hydro4a/hydro4a_1532000.out','rb')\n",
    "\n",
    "\n",
    "\n",
    "file.seek(0,2)\n",
    "eof = file.tell()\n",
    "file.seek(0,0)\n",
    "\n",
    "ndata=[0,0]\n",
    "\n",
    "name = file.read(79)\n",
    "nit = fromfile(file,dtype=int32,count=1)\n",
    "t = fromfile(file,dtype=float64,count=1)\n",
    "ndim=fromfile(file,dtype=int32,count=1)\n",
    "neqpar=fromfile(file,dtype=int32,count=1)\n",
    "nw=fromfile(file,dtype=int32,count=1)\n",
    "ndata[0]=fromfile(file,dtype=int32,count=1)\n",
    "ndata[1]=fromfile(file,dtype=int32,count=1)\n",
    "#ndata = fromfile(file,dtype=int32,count=ndim)[:ndim]\n",
    "varbuf = fromfile(file,dtype=float,count=6)[:6]\n",
    "varnames = file.read(79)\n",
    "\n",
    "\n",
    "icount=int((nw+ndim)*int32(ndata[0])*int32(ndata[1]))\n",
    "print(icount)\n",
    "alldat=fromfile(file,dtype=float64,count=icount)\n",
    "alldat=np.reshape(alldat,(int(nw+ndim),int(ndata[1]),int(ndata[0])),'C')\n",
    "\n",
    "\n",
    "\n",
    "#icount=[nw+ndim]\n",
    "#icount=icount.astype(int32)\n",
    "#icount=int32((nw+ndim)*int32(ndata[0])*int32(ndata[1]))\n",
    "#alldat=fromfile(file,dtype=float64,count=icount)\n",
    "#alldat=np.reshape(alldat,(12,1024,2048,),'C')\n",
    "\n",
    "\n",
    "\n",
    "\n",
    "#typedef enum vars {rho, mom1, mom2, energy, b1, b2,energyb,rhob,b1b,b2b} CEV;\n",
    "\n",
    "#alldat=fromfile(file,dtype=float,count=(nw+ndim)*ndata[0]*ndata[1])[:(nw+ndim)*ndata[0]*ndata[1]]\n",
    "#if size(alldat)<(nw+ndim)*ndata[0]*ndata[1]:\n",
    "#    alldat=resize(alldat,(nw+ndim)*ndata[0]*ndata[1])\n",
    "#alldat=np.reshape(alldat,(nw+ndim,ndata[0],ndata[1],),'C')\n",
    "\n",
    "file.close()"
   ]
  },
  {
   "cell_type": "code",
   "execution_count": 84,
   "metadata": {},
   "outputs": [
    {
     "name": "stdout",
     "output_type": "stream",
     "text": [
      "[2]\n",
      "[array([2048], dtype=int32), array([1024], dtype=int32)]\n"
     ]
    }
   ],
   "source": [
    "print(ndim)\n",
    "print(ndata)\n"
   ]
  },
  {
   "cell_type": "code",
   "execution_count": 85,
   "metadata": {},
   "outputs": [
    {
     "name": "stdout",
     "output_type": "stream",
     "text": [
      "(12, 1024, 2048)\n",
      "[[ 0.00000000e+00  0.00000000e+00  0.00000000e+00 ...  0.00000000e+00\n",
      "   0.00000000e+00  0.00000000e+00]\n",
      " [ 0.00000000e+00  0.00000000e+00  0.00000000e+00 ...  0.00000000e+00\n",
      "   0.00000000e+00  0.00000000e+00]\n",
      " [ 0.00000000e+00  0.00000000e+00  0.00000000e+00 ...  0.00000000e+00\n",
      "   0.00000000e+00  0.00000000e+00]\n",
      " ...\n",
      " [-3.15703146e-08 -2.85038034e-08 -2.51324587e-08 ...  1.63832898e-07\n",
      "   1.63295887e-07  1.62838334e-07]\n",
      " [-3.88472968e-08 -3.58075513e-08 -3.19809066e-08 ...  1.90710860e-07\n",
      "   1.90717078e-07  1.89823427e-07]\n",
      " [-4.59346333e-08 -4.18755605e-08 -3.77789458e-08 ...  2.12954464e-07\n",
      "   2.08610388e-07  2.05471240e-07]]\n"
     ]
    }
   ],
   "source": [
    "print(np.shape(alldat))\n",
    "print(alldat[4,0:10,900:1100])"
   ]
  },
  {
   "cell_type": "code",
   "execution_count": 86,
   "metadata": {},
   "outputs": [
    {
     "name": "stdout",
     "output_type": "stream",
     "text": [
      "varnames: b'x y rho mx my e bx by  gamma eta g1 g2\\x00\\x00\\x00\\x00\\x00\\x00\\x00\\x00\\x00\\x00\\x00\\x00\\x00\\x00\\x00\\x00\\x00\\x00P\\xc0\\xbc5\\x00\\x00\\x00\\x00\\x00\\x00\\x00\\x00\\x00\\x00\\x00\\x00\\xb8\\x03\\x00\\x00\\x00\\x00\\x00'\n",
      "nit: [1532000]\n",
      "name: b'test1\\x00\\x00\\x00\\x00\\x00\\x00\\x00\\x00\\x00\\x00\\x00\\x00\\x00\\x00\\x00\\x00\\x00\\x00\\x00\\x00\\x00\\x00\\x00\\x00\\x00\\x00\\x00\\x00\\x00\\x00\\x00\\x00\\x00\\x00\\x00\\x00\\x00\\x00\\x00\\x00\\x00\\x00\\x00\\x00\\x00\\x00\\x00\\x00\\x00\\x00\\x00\\x00\\x00\\x00\\x00\\x00\\x00\\x00\\x00\\x00\\x00\\x00\\x00\\x00\\x00\\x00\\x00\\x00\\x00\\x00\\x00\\x00\\x00\\x00'\n",
      "t: [6.4]\n",
      "ndim: [2]\n",
      "neqpar: [6]\n",
      "nw: [10]\n",
      "varbuf: [   1.66667    0.         0.      -274.         0.         0.     ]\n"
     ]
    }
   ],
   "source": [
    "print( 'varnames:',varnames)\n",
    "print( 'nit:',nit)\n",
    "print( 'name:',name)\n",
    "print( 't:',t)\n",
    "print( 'ndim:',ndim)\n",
    "print( 'neqpar:',neqpar)\n",
    "print( 'nw:',nw)\n",
    "print( 'varbuf:',varbuf)"
   ]
  },
  {
   "cell_type": "code",
   "execution_count": 87,
   "metadata": {},
   "outputs": [
    {
     "name": "stderr",
     "output_type": "stream",
     "text": [
      "/Users/mikegriffiths/anaconda3/lib/python3.7/site-packages/ipykernel_launcher.py:2: RuntimeWarning: invalid value encountered in true_divide\n",
      "  \n"
     ]
    },
    {
     "name": "stdout",
     "output_type": "stream",
     "text": [
      "(12, 1024, 2048)\n",
      "(1024, 2048)\n"
     ]
    },
    {
     "data": {
      "image/png": "[encoded data removed]",
      "text/plain": [
       "<Figure size 432x288 with 2 Axes>"
      ]
     },
     "metadata": {
      "needs_background": "light"
     },
     "output_type": "display_data"
    }
   ],
   "source": [
    "dat=alldat[4,:,:]\n",
    "datmom=alldat[4,:,:]/(alldat[2,:,:]+alldat[9,:,:])\n",
    "print(shape(alldat))\n",
    "print(shape(dat))\n",
    "plt.imshow(datmom,cmap='seismic',vmin=-5,vmax=5)\n",
    "#plt.imshow(datmom,cmap='seismic')\n",
    "plt.colorbar()\n",
    "plt.show()\n",
    "\n"
   ]
  },
  {
   "cell_type": "markdown",
   "metadata": {},
   "source": [
    "Temperature distribution"
   ]
  },
  {
   "cell_type": "code",
   "execution_count": 82,
   "metadata": {},
   "outputs": [
    {
     "name": "stdout",
     "output_type": "stream",
     "text": [
      "(12, 1024, 2048)\n",
      "(1024, 2048)\n"
     ]
    },
    {
     "data": {
      "image/png": "[encoded data removed]",
      "text/plain": [
       "<Figure size 432x288 with 2 Axes>"
      ]
     },
     "metadata": {
      "needs_background": "light"
     },
     "output_type": "display_data"
    }
   ],
   "source": [
    "gam=1.66667\n",
    "R=8310\n",
    "#atrangy=range(0,390)\n",
    "atrangy=range(0,1023)\n",
    "\n",
    "dat=alldat[4,:,:]\n",
    "#datatemp=alldat[3,atrangy,:]/(alldat[2,atrangy,:]+alldat[9,atrangy,:])\n",
    "datatemp=(alldat[5,atrangy,:]+alldat[8,atrangy,:]-0.5*((alldat[3,atrangy,:]*alldat[3,atrangy,:]+alldat[4,atrangy,:]*alldat[4,atrangy,:])/(alldat[2,atrangy,:]+alldat[9,atrangy,:])))/(alldat[2,atrangy,:]+alldat[9,atrangy,:])\n",
    "#datatemp=(0.5*((alldat[3,0:230,:]*alldat[3,0:230,:]+alldat[4,0:230,:]*alldat[4,0:230,:])/(alldat[2,0:230,:]+alldat[9,0:230,:])))\n",
    "#datatemp=np.log10(datatemp*(gam-1)/R)\n",
    "datatemp=(datatemp*(gam-1)/R)\n",
    "print(shape(alldat))\n",
    "print(shape(dat))\n",
    "plt.imshow(np.log10(datatemp[210:265,:]),interpolation='spline36',aspect='auto', cmap='seismic',vmin=5,vmax=7)\n",
    "#plt.imshow(datmom,cmap='seismic')\n",
    "plt.colorbar()\n",
    "plt.show()"
   ]
  },
  {
   "cell_type": "code",
   "execution_count": 179,
   "metadata": {},
   "outputs": [
    {
     "data": {
      "image/png": "[encoded data removed]",
      "text/plain": [
       "<Figure size 432x288 with 1 Axes>"
      ]
     },
     "metadata": {
      "needs_background": "light"
     },
     "output_type": "display_data"
    },
    {
     "name": "stdout",
     "output_type": "stream",
     "text": [
      "(1023, 2048)\n",
      "(2048,)\n",
      "(2048,)\n",
      "[  31909.9   35806.3   39702.7 ... 7999980.  8003870.  8007760. ]\n",
      "1944670.0\n",
      "1990600.0\n",
      "2013560.0\n"
     ]
    }
   ],
   "source": [
    "yv = alldat[0,390,:]\n",
    "start=230\n",
    "fv=datatemp[start+3,:]\n",
    "plt.plot(yv, fv)\n",
    "#fv=alldat[3,:,100]\n",
    "plt.plot(yv, datatemp[start+6,:])\n",
    "plt.plot(yv, datatemp[start+9,:])\n",
    "plt.title('A simple chirp')\n",
    "plt.show()\n",
    "print(shape(datatemp))\n",
    "print(shape(fv))\n",
    "print(shape(yv))\n",
    "#print(yv[0:800])\n",
    "print(yv)\n",
    "print(alldat[1,start,390])\n",
    "print(alldat[1,start+6,390])\n",
    "print(alldat[1,start+9,390])"
   ]
  },
  {
   "cell_type": "code",
   "execution_count": 221,
   "metadata": {},
   "outputs": [
    {
     "data": {
      "image/png": "[encoded data removed]",
      "text/plain": [
       "<Figure size 432x288 with 1 Axes>"
      ]
     },
     "metadata": {
      "needs_background": "light"
     },
     "output_type": "display_data"
    },
    {
     "name": "stdout",
     "output_type": "stream",
     "text": [
      "[0. 0. 0. ... 0. 0. 0.]\n"
     ]
    }
   ],
   "source": [
    "yv = alldat[1,:,5]\n",
    "fv=alldat[3,:,5]\n",
    "plt.plot(yv, fv)\n",
    "fv=alldat[3,:,100]\n",
    "plt.plot(yv, fv)\n",
    "plt.title('A simple chirp')\n",
    "plt.show()\n",
    "\n",
    "#print(yv[0:800])\n",
    "print(fv)"
   ]
  },
  {
   "cell_type": "code",
   "execution_count": 201,
   "metadata": {},
   "outputs": [
    {
     "name": "stderr",
     "output_type": "stream",
     "text": [
      "/Users/mikegriffiths/anaconda3/lib/python3.7/site-packages/ipykernel_launcher.py:2: MatplotlibDeprecationWarning: Calling gca() with keyword arguments was deprecated in Matplotlib 3.4. Starting two minor releases later, gca() will take no keyword arguments. The gca() function should only be used to get the current axes, or if no axes exist, create new axes with default keyword arguments. To create a new axes with non-default arguments, use plt.axes() or plt.subplot().\n",
      "  \n"
     ]
    },
    {
     "data": {
      "image/png": "[encoded data removed]",
      "text/plain": [
       "<Figure size 432x288 with 2 Axes>"
      ]
     },
     "metadata": {
      "needs_background": "light"
     },
     "output_type": "display_data"
    }
   ],
   "source": [
    "fig = plt.figure()\n",
    "ax = fig.gca(projection='3d')\n",
    "X = alldat[0,:,:]\n",
    "Y = alldat[1,:,:]\n",
    "\n",
    "\n",
    "dens = alldat[2,:,:]\n",
    "#bsq=alldat[6,:,:]*alldat[6,:,:]+alldat[7,:,:]*alldat[7,:,:]\n",
    "#bmag=sqrt(bsq)\n",
    "\n",
    "surf = ax.plot_surface(X, Y, dens, rstride=1, cstride=1, cmap=cm.coolwarm,\n",
    "                       linewidth=0, antialiased=False)\n",
    "#ax.set_zlim(-1.01, 1.01)\n",
    "\n",
    "#ax.zaxis.set_major_locator(LinearLocator(10))\n",
    "#ax.zaxis.set_major_formatter(FormatStrFormatter('%.02f'))\n",
    "ax.view_init(elev=90,azim=0) \n",
    "fig.colorbar(surf, shrink=0.5, aspect=5)\n",
    "\n",
    "plt.show()"
   ]
  },
  {
   "cell_type": "code",
   "execution_count": null,
   "metadata": {},
   "outputs": [],
   "source": [
    "fig = plt.figure(figsize=plt.figaspect(1.))\n",
    "ax = fig.add_subplot(2, 1, 1,projection='3d')\n",
    "\n",
    "#X = alldat[0,:,:]\n",
    "#Y = alldat[1,:,:]\n",
    "\n",
    "\n",
    "energy = alldat[5,:,:]\n",
    "bsq=alldat[6,:,:]*alldat[6,:,:]+alldat[7,:,:]*alldat[7,:,:]\n",
    "bmag=sqrt(bsq)\n",
    "\n",
    "surf = ax.plot_surface(X, Y, energy, rstride=1, cstride=1, cmap=cm.coolwarm,\n",
    "                       linewidth=0, antialiased=False)\n",
    "#ax.set_zlim(-1.01, 1.01)\n",
    "\n",
    "#ax.zaxis.set_major_locator(LinearLocator(10))\n",
    "#ax.zaxis.set_major_formatter(FormatStrFormatter('%.02f'))\n",
    "ax.view_init(elev=90,azim=0) \n",
    "fig.colorbar(surf, shrink=0.5, aspect=5)\n",
    "\n",
    "\n",
    "\n",
    "ax = fig.add_subplot(2, 1, 2,projection='3d')\n",
    "surf = ax.plot_surface(X, Y, bmag, rstride=1, cstride=1, cmap=cm.coolwarm,\n",
    "                       linewidth=0, antialiased=False)\n",
    "#ax.set_zlim(-1.01, 1.01)\n",
    "\n",
    "#ax.zaxis.set_major_locator(LinearLocator(10))\n",
    "#ax.zaxis.set_major_formatter(FormatStrFormatter('%.02f'))\n",
    "ax.view_init(elev=90,azim=0) \n",
    "fig.colorbar(surf, shrink=0.5, aspect=5)\n",
    "\n",
    "plt.show()"
   ]
  },
  {
   "cell_type": "code",
   "execution_count": null,
   "metadata": {
    "collapsed": true
   },
   "outputs": [],
   "source": []
  }
 ],
 "metadata": {
  "anaconda-cloud": {},
  "kernelspec": {
   "display_name": "Python 3 (ipykernel)",
   "language": "python",
   "name": "python3"
  },
  "language_info": {
   "codemirror_mode": {
    "name": "ipython",
    "version": 3
   },
   "file_extension": ".py",
   "mimetype": "text/x-python",
   "name": "python",
   "nbconvert_exporter": "python",
   "pygments_lexer": "ipython3",
   "version": "3.7.9"
  }
 },
 "nbformat": 4,
 "nbformat_minor": 2
}
