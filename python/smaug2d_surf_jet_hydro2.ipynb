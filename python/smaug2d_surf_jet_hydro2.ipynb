{
 "cells": [
  {
   "cell_type": "code",
   "execution_count": 106,
   "metadata": {},
   "outputs": [],
   "source": [
    "import numpy as np\n",
    "from numpy import *\n",
    "import scipy.io\n",
    "from scipy import special\n",
    "import matplotlib\n",
    "import matplotlib.pyplot as plt\n",
    "from mpl_toolkits.mplot3d import Axes3D\n",
    "from matplotlib import cm\n",
    "from matplotlib.ticker import LinearLocator, FormatStrFormatter\n",
    "import struct\n",
    "\n",
    "#%matplotlib inline  "
   ]
  },
  {
   "cell_type": "code",
   "execution_count": 154,
   "metadata": {},
   "outputs": [
    {
     "name": "stdout",
     "output_type": "stream",
     "text": [
      "25165824\n"
     ]
    }
   ],
   "source": [
    "file = open('../../smaug_jet_data/out/hydro2/hydro2_378000.out','rb')\n",
    "\n",
    "\n",
    "\n",
    "file.seek(0,2)\n",
    "eof = file.tell()\n",
    "file.seek(0,0)\n",
    "\n",
    "ndata=[0,0]\n",
    "\n",
    "name = file.read(79)\n",
    "nit = fromfile(file,dtype=int32,count=1)\n",
    "t = fromfile(file,dtype=float64,count=1)\n",
    "ndim=fromfile(file,dtype=int32,count=1)\n",
    "neqpar=fromfile(file,dtype=int32,count=1)\n",
    "nw=fromfile(file,dtype=int32,count=1)\n",
    "ndata[0]=fromfile(file,dtype=int32,count=1)\n",
    "ndata[1]=fromfile(file,dtype=int32,count=1)\n",
    "#ndata = fromfile(file,dtype=int32,count=ndim)[:ndim]\n",
    "varbuf = fromfile(file,dtype=float,count=6)[:6]\n",
    "varnames = file.read(79)\n",
    "\n",
    "icount=25165824\n",
    "#icount=int32((nw+ndim)*int32(ndata[0])*int32(ndata[1]))\n",
    "#icount=icount.astype(int32)\n",
    "print(icount)\n",
    "alldat=fromfile(file,dtype=float64,count=icount)\n",
    "alldat=np.reshape(alldat,(12,1024,2048,),'C')\n",
    "\n",
    "\n",
    "#typedef enum vars {rho, mom1, mom2, energy, b1, b2,energyb,rhob,b1b,b2b} CEV;\n",
    "\n",
    "#alldat=fromfile(file,dtype=float,count=(nw+ndim)*ndata[0]*ndata[1])[:(nw+ndim)*ndata[0]*ndata[1]]\n",
    "#if size(alldat)<(nw+ndim)*ndata[0]*ndata[1]:\n",
    "#    alldat=resize(alldat,(nw+ndim)*ndata[0]*ndata[1])\n",
    "#alldat=np.reshape(alldat,(nw+ndim,ndata[0],ndata[1],),'C')\n",
    "\n",
    "file.close()"
   ]
  },
  {
   "cell_type": "code",
   "execution_count": 90,
   "metadata": {},
   "outputs": [
    {
     "name": "stdout",
     "output_type": "stream",
     "text": [
      "[]\n"
     ]
    },
    {
     "ename": "ValueError",
     "evalue": "cannot reshape array of size 0 into shape (12,1024,2048)",
     "output_type": "error",
     "traceback": [
      "\u001b[0;31m---------------------------------------------------------------------------\u001b[0m",
      "\u001b[0;31mValueError\u001b[0m                                Traceback (most recent call last)",
      "\u001b[0;32m/var/folders/jr/4mwd3hqn7lbd7vq59vqx30n80000gn/T/ipykernel_36095/1848593706.py\u001b[0m in \u001b[0;36m<module>\u001b[0;34m\u001b[0m\n\u001b[1;32m      3\u001b[0m \u001b[0mprint\u001b[0m\u001b[0;34m(\u001b[0m\u001b[0micount\u001b[0m\u001b[0;34m)\u001b[0m\u001b[0;34m\u001b[0m\u001b[0;34m\u001b[0m\u001b[0m\n\u001b[1;32m      4\u001b[0m \u001b[0malldat\u001b[0m\u001b[0;34m=\u001b[0m\u001b[0mfromfile\u001b[0m\u001b[0;34m(\u001b[0m\u001b[0mfile\u001b[0m\u001b[0;34m,\u001b[0m\u001b[0mdtype\u001b[0m\u001b[0;34m=\u001b[0m\u001b[0mfloat64\u001b[0m\u001b[0;34m,\u001b[0m\u001b[0mcount\u001b[0m\u001b[0;34m=\u001b[0m\u001b[0;36m25264128\u001b[0m\u001b[0;34m)\u001b[0m\u001b[0;34m\u001b[0m\u001b[0;34m\u001b[0m\u001b[0m\n\u001b[0;32m----> 5\u001b[0;31m \u001b[0malldat\u001b[0m\u001b[0;34m=\u001b[0m\u001b[0mnp\u001b[0m\u001b[0;34m.\u001b[0m\u001b[0mreshape\u001b[0m\u001b[0;34m(\u001b[0m\u001b[0malldat\u001b[0m\u001b[0;34m,\u001b[0m\u001b[0;34m(\u001b[0m\u001b[0;36m12\u001b[0m\u001b[0;34m,\u001b[0m\u001b[0;36m1024\u001b[0m\u001b[0;34m,\u001b[0m\u001b[0;36m2048\u001b[0m\u001b[0;34m,\u001b[0m\u001b[0;34m)\u001b[0m\u001b[0;34m,\u001b[0m\u001b[0;34m'C'\u001b[0m\u001b[0;34m)\u001b[0m\u001b[0;34m\u001b[0m\u001b[0;34m\u001b[0m\u001b[0m\n\u001b[0m\u001b[1;32m      6\u001b[0m \u001b[0;31m#np.zeros(s,dtype=float64)\u001b[0m\u001b[0;34m\u001b[0m\u001b[0;34m\u001b[0m\u001b[0;34m\u001b[0m\u001b[0m\n",
      "\u001b[0;32m<__array_function__ internals>\u001b[0m in \u001b[0;36mreshape\u001b[0;34m(*args, **kwargs)\u001b[0m\n",
      "\u001b[0;32m~/anaconda3/lib/python3.7/site-packages/numpy/core/fromnumeric.py\u001b[0m in \u001b[0;36mreshape\u001b[0;34m(a, newshape, order)\u001b[0m\n\u001b[1;32m    297\u001b[0m            [5, 6]])\n\u001b[1;32m    298\u001b[0m     \"\"\"\n\u001b[0;32m--> 299\u001b[0;31m     \u001b[0;32mreturn\u001b[0m \u001b[0m_wrapfunc\u001b[0m\u001b[0;34m(\u001b[0m\u001b[0ma\u001b[0m\u001b[0;34m,\u001b[0m \u001b[0;34m'reshape'\u001b[0m\u001b[0;34m,\u001b[0m \u001b[0mnewshape\u001b[0m\u001b[0;34m,\u001b[0m \u001b[0morder\u001b[0m\u001b[0;34m=\u001b[0m\u001b[0morder\u001b[0m\u001b[0;34m)\u001b[0m\u001b[0;34m\u001b[0m\u001b[0;34m\u001b[0m\u001b[0m\n\u001b[0m\u001b[1;32m    300\u001b[0m \u001b[0;34m\u001b[0m\u001b[0m\n\u001b[1;32m    301\u001b[0m \u001b[0;34m\u001b[0m\u001b[0m\n",
      "\u001b[0;32m~/anaconda3/lib/python3.7/site-packages/numpy/core/fromnumeric.py\u001b[0m in \u001b[0;36m_wrapfunc\u001b[0;34m(obj, method, *args, **kwds)\u001b[0m\n\u001b[1;32m     56\u001b[0m \u001b[0;34m\u001b[0m\u001b[0m\n\u001b[1;32m     57\u001b[0m     \u001b[0;32mtry\u001b[0m\u001b[0;34m:\u001b[0m\u001b[0;34m\u001b[0m\u001b[0;34m\u001b[0m\u001b[0m\n\u001b[0;32m---> 58\u001b[0;31m         \u001b[0;32mreturn\u001b[0m \u001b[0mbound\u001b[0m\u001b[0;34m(\u001b[0m\u001b[0;34m*\u001b[0m\u001b[0margs\u001b[0m\u001b[0;34m,\u001b[0m \u001b[0;34m**\u001b[0m\u001b[0mkwds\u001b[0m\u001b[0;34m)\u001b[0m\u001b[0;34m\u001b[0m\u001b[0;34m\u001b[0m\u001b[0m\n\u001b[0m\u001b[1;32m     59\u001b[0m     \u001b[0;32mexcept\u001b[0m \u001b[0mTypeError\u001b[0m\u001b[0;34m:\u001b[0m\u001b[0;34m\u001b[0m\u001b[0;34m\u001b[0m\u001b[0m\n\u001b[1;32m     60\u001b[0m         \u001b[0;31m# A TypeError occurs if the object does have such a method in its\u001b[0m\u001b[0;34m\u001b[0m\u001b[0;34m\u001b[0m\u001b[0;34m\u001b[0m\u001b[0m\n",
      "\u001b[0;31mValueError\u001b[0m: cannot reshape array of size 0 into shape (12,1024,2048)"
     ]
    }
   ],
   "source": [
    "\n",
    "#alldat=np.zeros((1028, 2048))\n",
    "icount=(nw+ndim)*ndata[0]*ndata[1]\n",
    "print(icount)\n",
    "alldat=fromfile(file,dtype=float64,count=25264128)\n",
    "alldat=np.reshape(alldat,(12,1024,2048,),'C')\n",
    "#np.zeros(s,dtype=float64)\n"
   ]
  },
  {
   "cell_type": "code",
   "execution_count": 13,
   "metadata": {},
   "outputs": [
    {
     "name": "stdout",
     "output_type": "stream",
     "text": [
      "[2]\n",
      "[array([1024], dtype=int32), array([2048], dtype=int32)]\n"
     ]
    }
   ],
   "source": [
    "print(ndim)\n",
    "print(ndata)"
   ]
  },
  {
   "cell_type": "code",
   "execution_count": 141,
   "metadata": {},
   "outputs": [
    {
     "name": "stdout",
     "output_type": "stream",
     "text": [
      "(12, 1024, 2048)\n",
      "[[0.00000000e+00 0.00000000e+00 0.00000000e+00 ... 0.00000000e+00\n",
      "  0.00000000e+00 0.00000000e+00]\n",
      " [0.00000000e+00 0.00000000e+00 0.00000000e+00 ... 0.00000000e+00\n",
      "  0.00000000e+00 0.00000000e+00]\n",
      " [0.00000000e+00 0.00000000e+00 0.00000000e+00 ... 0.00000000e+00\n",
      "  0.00000000e+00 0.00000000e+00]\n",
      " ...\n",
      " [5.47519206e-24 9.08985103e-24 1.55680375e-23 ... 2.69647102e-16\n",
      "  2.11549949e-16 1.61060039e-16]\n",
      " [9.38464753e-24 1.34209778e-23 2.06264482e-23 ... 3.87363216e-16\n",
      "  3.16869871e-16 2.69041637e-16]\n",
      " [1.45156400e-23 1.92410868e-23 2.66015828e-23 ... 6.06662633e-16\n",
      "  5.03478626e-16 4.18900413e-16]]\n"
     ]
    }
   ],
   "source": [
    "print(np.shape(alldat))\n",
    "print(alldat[4,0:10,900:1100])"
   ]
  },
  {
   "cell_type": "code",
   "execution_count": 110,
   "metadata": {},
   "outputs": [
    {
     "name": "stdout",
     "output_type": "stream",
     "text": [
      "varnames: b'x y rho mx my e bx by  gamma eta g1 g2\\x00\\x00\\x00\\x00\\x00\\x00\\x00\\x00\\x00\\x00\\x00\\x00\\x00\\x00\\x00\\x00\\x00\\x00 \\xbf\\x871\\x00\\x00\\x00\\x00\\x00\\x00\\x00\\x00\\x00\\x00\\x00\\x00\\xb8\\x03\\x00\\x00\\x00\\x00\\x00'\n",
      "nit: [16000]\n",
      "name: b'test1\\x00\\x00\\x00\\x00\\x00\\x00\\x00\\x00\\x00\\x00\\x00\\x00\\x00\\x00\\x00\\x00\\x00\\x00\\x00\\x00\\x00\\x00\\x00\\x00\\x00\\x00\\x00\\x00\\x00\\x00\\x00\\x00\\x00\\x00\\x00\\x00\\x00\\x00\\x00\\x00\\x00\\x00\\x00\\x00\\x00\\x00\\x00\\x00\\x00\\x00\\x00\\x00\\x00\\x00\\x00\\x00\\x00\\x00\\x00\\x00\\x00\\x00\\x00\\x00\\x00\\x00\\x00\\x00\\x00\\x00\\x00\\x00\\x00\\x00'\n",
      "t: [8.0005]\n",
      "ndim: [2]\n",
      "neqpar: [6]\n",
      "nw: [10]\n",
      "varbuf: [1.66667 0.      0.      0.      0.      0.     ]\n"
     ]
    }
   ],
   "source": [
    "print( 'varnames:',varnames)\n",
    "print( 'nit:',nit)\n",
    "print( 'name:',name)\n",
    "print( 't:',t)\n",
    "print( 'ndim:',ndim)\n",
    "print( 'neqpar:',neqpar)\n",
    "print( 'nw:',nw)\n",
    "print( 'varbuf:',varbuf)"
   ]
  },
  {
   "cell_type": "code",
   "execution_count": 160,
   "metadata": {},
   "outputs": [
    {
     "name": "stdout",
     "output_type": "stream",
     "text": [
      "(12, 1024, 2048)\n",
      "(1024, 2048)\n"
     ]
    },
    {
     "data": {
      "image/png": "[encoded data removed]",
      "text/plain": [
       "<Figure size 432x288 with 2 Axes>"
      ]
     },
     "metadata": {
      "needs_background": "light"
     },
     "output_type": "display_data"
    }
   ],
   "source": [
    "dat=alldat[4,:,:]\n",
    "datmom=alldat[4,:,:]/(alldat[2,:,:]+alldat[9,:,:])\n",
    "print(shape(alldat))\n",
    "print(shape(dat))\n",
    "plt.imshow(datmom,cmap='seismic',vmin=-9,vmax=9)\n",
    "#plt.imshow(datmom,cmap='seismic')\n",
    "plt.colorbar()\n",
    "plt.show()\n",
    "\n"
   ]
  },
  {
   "cell_type": "code",
   "execution_count": 17,
   "metadata": {},
   "outputs": [
    {
     "data": {
      "image/png": "[encoded data removed]",
      "text/plain": [
       "<Figure size 432x288 with 1 Axes>"
      ]
     },
     "metadata": {
      "needs_background": "light"
     },
     "output_type": "display_data"
    },
    {
     "name": "stdout",
     "output_type": "stream",
     "text": [
      "[2.34586441e-08 1.10640115e-08 0.00000000e+00 ... 0.00000000e+00\n",
      " 1.14462853e-12 2.33849403e-12]\n"
     ]
    }
   ],
   "source": [
    "yv = alldat[1,:,5]\n",
    "fv=alldat[3,:,5]\n",
    "plt.plot(yv, fv)\n",
    "fv=alldat[3,:,100]\n",
    "plt.plot(yv, fv)\n",
    "plt.title('A simple chirp')\n",
    "plt.show()\n",
    "\n",
    "#print(yv[0:800])\n",
    "print(fv)"
   ]
  },
  {
   "cell_type": "code",
   "execution_count": 18,
   "metadata": {},
   "outputs": [
    {
     "name": "stderr",
     "output_type": "stream",
     "text": [
      "/Users/mikegriffiths/anaconda3/lib/python3.7/site-packages/ipykernel_launcher.py:2: MatplotlibDeprecationWarning: Calling gca() with keyword arguments was deprecated in Matplotlib 3.4. Starting two minor releases later, gca() will take no keyword arguments. The gca() function should only be used to get the current axes, or if no axes exist, create new axes with default keyword arguments. To create a new axes with non-default arguments, use plt.axes() or plt.subplot().\n",
      "  \n"
     ]
    },
    {
     "data": {
      "image/png": "[encoded data removed]",
      "text/plain": [
       "<Figure size 432x288 with 2 Axes>"
      ]
     },
     "metadata": {
      "needs_background": "light"
     },
     "output_type": "display_data"
    }
   ],
   "source": [
    "fig = plt.figure()\n",
    "ax = fig.gca(projection='3d')\n",
    "X = alldat[0,:,:]\n",
    "Y = alldat[1,:,:]\n",
    "\n",
    "\n",
    "dens = alldat[2,:,:]\n",
    "#bsq=alldat[6,:,:]*alldat[6,:,:]+alldat[7,:,:]*alldat[7,:,:]\n",
    "#bmag=sqrt(bsq)\n",
    "\n",
    "surf = ax.plot_surface(X, Y, dens, rstride=1, cstride=1, cmap=cm.coolwarm,\n",
    "                       linewidth=0, antialiased=False)\n",
    "#ax.set_zlim(-1.01, 1.01)\n",
    "\n",
    "#ax.zaxis.set_major_locator(LinearLocator(10))\n",
    "#ax.zaxis.set_major_formatter(FormatStrFormatter('%.02f'))\n",
    "ax.view_init(elev=90,azim=0) \n",
    "fig.colorbar(surf, shrink=0.5, aspect=5)\n",
    "\n",
    "plt.show()"
   ]
  },
  {
   "cell_type": "code",
   "execution_count": null,
   "metadata": {},
   "outputs": [],
   "source": [
    "fig = plt.figure(figsize=plt.figaspect(1.))\n",
    "ax = fig.add_subplot(2, 1, 1,projection='3d')\n",
    "\n",
    "#X = alldat[0,:,:]\n",
    "#Y = alldat[1,:,:]\n",
    "\n",
    "\n",
    "energy = alldat[5,:,:]\n",
    "bsq=alldat[6,:,:]*alldat[6,:,:]+alldat[7,:,:]*alldat[7,:,:]\n",
    "bmag=sqrt(bsq)\n",
    "\n",
    "surf = ax.plot_surface(X, Y, energy, rstride=1, cstride=1, cmap=cm.coolwarm,\n",
    "                       linewidth=0, antialiased=False)\n",
    "#ax.set_zlim(-1.01, 1.01)\n",
    "\n",
    "#ax.zaxis.set_major_locator(LinearLocator(10))\n",
    "#ax.zaxis.set_major_formatter(FormatStrFormatter('%.02f'))\n",
    "ax.view_init(elev=90,azim=0) \n",
    "fig.colorbar(surf, shrink=0.5, aspect=5)\n",
    "\n",
    "\n",
    "\n",
    "ax = fig.add_subplot(2, 1, 2,projection='3d')\n",
    "surf = ax.plot_surface(X, Y, bmag, rstride=1, cstride=1, cmap=cm.coolwarm,\n",
    "                       linewidth=0, antialiased=False)\n",
    "#ax.set_zlim(-1.01, 1.01)\n",
    "\n",
    "#ax.zaxis.set_major_locator(LinearLocator(10))\n",
    "#ax.zaxis.set_major_formatter(FormatStrFormatter('%.02f'))\n",
    "ax.view_init(elev=90,azim=0) \n",
    "fig.colorbar(surf, shrink=0.5, aspect=5)\n",
    "\n",
    "plt.show()"
   ]
  },
  {
   "cell_type": "code",
   "execution_count": null,
   "metadata": {
    "collapsed": true
   },
   "outputs": [],
   "source": []
  }
 ],
 "metadata": {
  "anaconda-cloud": {},
  "kernelspec": {
   "display_name": "Python 3 (ipykernel)",
   "language": "python",
   "name": "python3"
  },
  "language_info": {
   "codemirror_mode": {
    "name": "ipython",
    "version": 3
   },
   "file_extension": ".py",
   "mimetype": "text/x-python",
   "name": "python",
   "nbconvert_exporter": "python",
   "pygments_lexer": "ipython3",
   "version": "3.7.9"
  }
 },
 "nbformat": 4,
 "nbformat_minor": 2
}
