{
 "cells": [
  {
   "cell_type": "code",
   "execution_count": 7,
   "id": "66540ecd",
   "metadata": {},
   "outputs": [],
   "source": [
    "import numpy as np\n",
    "from numpy import *\n",
    "import scipy.io\n",
    "from scipy import special\n",
    "import matplotlib\n",
    "import matplotlib.pyplot as plt\n",
    "from mpl_toolkits.mplot3d import Axes3D\n",
    "from matplotlib import cm\n",
    "from matplotlib.ticker import LinearLocator, FormatStrFormatter\n",
    "import struct\n",
    "\n",
    "from sac_read3_ascii import read_sac_ascii\n",
    "\n",
    "%matplotlib inline  "
   ]
  },
  {
   "cell_type": "code",
   "execution_count": 10,
   "id": "016a7216",
   "metadata": {},
   "outputs": [],
   "source": [
    "filename='../../smaug_jet_data/configs/2D_1024_2048_4_12p5_asc.ini'\n",
    "#filename = open(filename,'rb')\n",
    "#called as\n",
    "alldat,modelinfo=read_sac_ascii(filename)\n"
   ]
  },
  {
   "cell_type": "code",
   "execution_count": 11,
   "id": "635867ed",
   "metadata": {},
   "outputs": [
    {
     "name": "stdout",
     "output_type": "stream",
     "text": [
      "(b'2dhydro 1024x2048\\n', 0, 0.0, 2, 6, 10, [1024, 2048], b'1.666667 0.000000 1.000000 0.000000 -274.000000 0 0', b'x y h m1 m2 e b1 b2 eb rhob bg1 bg2   gamma eta   grav1 grav2')\n"
     ]
    }
   ],
   "source": [
    "print(modelinfo)\n"
   ]
  },
  {
   "cell_type": "code",
   "execution_count": 13,
   "id": "f36a5293",
   "metadata": {},
   "outputs": [
    {
     "data": {
      "image/png": "[encoded data removed]",
      "text/plain": [
       "<Figure size 432x288 with 1 Axes>"
      ]
     },
     "metadata": {
      "needs_background": "light"
     },
     "output_type": "display_data"
    }
   ],
   "source": [
    "plt.imshow(alldat[4,:,:])\n",
    "plt.show()"
   ]
  },
  {
   "cell_type": "code",
   "execution_count": 37,
   "id": "a523cfd9",
   "metadata": {},
   "outputs": [
    {
     "data": {
      "image/png": "[encoded data removed]",
      "text/plain": [
       "<Figure size 432x288 with 1 Axes>"
      ]
     },
     "metadata": {
      "needs_background": "light"
     },
     "output_type": "display_data"
    }
   ],
   "source": [
    "yv = alldat[512,:,1]\n",
    "fv=alldat[512,:,8]\n",
    "plt.plot(yv, fv)\n",
    "plt.title('A simple chirp')\n",
    "plt.show()"
   ]
  },
  {
   "cell_type": "code",
   "execution_count": 38,
   "id": "f3418e3c",
   "metadata": {},
   "outputs": [
    {
     "name": "stdout",
     "output_type": "stream",
     "text": [
      "(1023, 2048, 12)\n",
      "(2048, 12)\n",
      "(1024, 2048, 12)\n"
     ]
    }
   ],
   "source": [
    "print(np.shape(alldat[0:1023][0:2047]))\n",
    "print(np.shape(alldat[10]))\n",
    "print(np.shape(alldat))"
   ]
  },
  {
   "cell_type": "code",
   "execution_count": 40,
   "id": "c0ac2ef0",
   "metadata": {},
   "outputs": [
    {
     "name": "stdout",
     "output_type": "stream",
     "text": [
      "[4.39021e+03 4.18857e+03 3.99590e+03 ... 3.32671e-01 3.32663e-01\n",
      " 3.32655e-01]\n",
      "(2048,)\n"
     ]
    }
   ],
   "source": [
    "xv=alldat[10,:,8]\n",
    "print(xv)\n",
    "print(np.shape(xv))"
   ]
  },
  {
   "cell_type": "code",
   "execution_count": null,
   "id": "df21b312",
   "metadata": {},
   "outputs": [],
   "source": []
  }
 ],
 "metadata": {
  "kernelspec": {
   "display_name": "Python 3 (ipykernel)",
   "language": "python",
   "name": "python3"
  },
  "language_info": {
   "codemirror_mode": {
    "name": "ipython",
    "version": 3
   },
   "file_extension": ".py",
   "mimetype": "text/x-python",
   "name": "python",
   "nbconvert_exporter": "python",
   "pygments_lexer": "ipython3",
   "version": "3.7.9"
  }
 },
 "nbformat": 4,
 "nbformat_minor": 5
}
