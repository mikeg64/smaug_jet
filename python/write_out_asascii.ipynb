{
 "cells": [
  {
   "cell_type": "markdown",
   "id": "d3362568",
   "metadata": {},
   "source": [
    "Read binary output file write out as an ascii file\n",
    "\n",
    "input file name infile = open('../../smaug_jet_data/out/hydro1/hydro1_36000.out','rb')\n",
    "\n",
    "output filename outfile = open('../../smaug_jet_data/out/hydro1/hydro1_asc_36000.ini','rb')"
   ]
  },
  {
   "cell_type": "code",
   "execution_count": 1,
   "id": "3f3c365e",
   "metadata": {},
   "outputs": [],
   "source": [
    "import numpy as np\n",
    "from numpy import *\n",
    "import scipy.io\n",
    "from scipy import special\n",
    "\n",
    "import struct\n",
    "\n",
    "%matplotlib inline  "
   ]
  },
  {
   "cell_type": "code",
   "execution_count": 2,
   "id": "26510fa2",
   "metadata": {},
   "outputs": [],
   "source": [
    "infile = open('../../smaug_jet_data/out/hydro4a-10k/hydro4a_1780000.out','rb')\n",
    "outfile = open('../../smaug_jet_data/out/hydro4a-10k/hydro4a_asc_1780000.ini','wb')"
   ]
  },
  {
   "cell_type": "markdown",
   "id": "131190a6",
   "metadata": {},
   "source": [
    "Read input file"
   ]
  },
  {
   "cell_type": "code",
   "execution_count": 3,
   "id": "2fc1ede4",
   "metadata": {},
   "outputs": [
    {
     "name": "stdout",
     "output_type": "stream",
     "text": [
      "[25165824]\n",
      "(12, 1024, 2048)\n"
     ]
    }
   ],
   "source": [
    "file=infile\n",
    "\n",
    "file.seek(0,2)\n",
    "eof = file.tell()\n",
    "file.seek(0,0)\n",
    "\n",
    "ndata=[0,0]\n",
    "\n",
    "name = file.read(79)\n",
    "nit = fromfile(file,dtype=int32,count=1)\n",
    "t = fromfile(file,dtype=float64,count=1)\n",
    "ndim=fromfile(file,dtype=int32,count=1)\n",
    "neqpar=fromfile(file,dtype=int32,count=1)\n",
    "nw=fromfile(file,dtype=int32,count=1)\n",
    "ndata[0]=fromfile(file,dtype=int32,count=1)\n",
    "ndata[1]=fromfile(file,dtype=int32,count=1)\n",
    "#ndata = fromfile(file,dtype=int32,count=ndim)[:ndim]\n",
    "varbuf = fromfile(file,dtype=float,count=6)[:6]\n",
    "varnames = file.read(79)\n",
    "\n",
    "\n",
    "icount=(nw+ndim)*ndata[0]*ndata[1]\n",
    "print(icount)\n",
    "alldat=fromfile(file,dtype=float64,count=25165824)\n",
    "alldat=np.reshape(alldat,(12,1024,2048),'C')\n",
    "\n",
    "\n",
    "#typedef enum vars {rho, mom1, mom2, energy, b1, b2,energyb,rhob,b1b,b2b} CEV;\n",
    "\n",
    "#alldat=fromfile(file,dtype=float,count=(nw+ndim)*ndata[0]*ndata[1])[:(nw+ndim)*ndata[0]*ndata[1]]\n",
    "#if size(alldat)<(nw+ndim)*ndata[0]*ndata[1]:\n",
    "#    alldat=resize(alldat,(nw+ndim)*ndata[0]*ndata[1])\n",
    "#alldat=np.reshape(alldat,(nw+ndim,ndata[0],ndata[1],),'C')\n",
    "print(shape(alldat))\n",
    "file.close()"
   ]
  },
  {
   "cell_type": "markdown",
   "id": "38096d2a",
   "metadata": {},
   "source": [
    "write outputfile"
   ]
  },
  {
   "cell_type": "code",
   "execution_count": 4,
   "id": "eb8e5a1a",
   "metadata": {},
   "outputs": [],
   "source": [
    "file=outfile\n",
    "\n",
    "#this script assumes data has been read using a routine such as sac-read3-ascii.py\n",
    "#the following variables are assumed\n",
    "#nits\n",
    "#time\n",
    "#ndim\n",
    "#nvar\n",
    "#nfields\n",
    "\n",
    "#dim[2] or dim[3]\n",
    "\n",
    "#gamma\n",
    "#eta\n",
    "#grav1\n",
    "#grav2\n",
    "#grav3\n",
    "\n",
    "#all data is contained in an array alldat of shape nfields+ndim,dim[0],dim[1]\n",
    "\n",
    "\n",
    "#write header lines\n",
    "\n",
    "#header='sac_test_asc'\n",
    "##header=modelinfo[0]\n",
    "#modelinfo=(header,nits, time, ndim, nvar, nfields,dim,head3,head4)\n",
    "##dim=[128,128]\n",
    "##ndim=2\n",
    "##nfields=12\n",
    "##time=modelinfo[2]\n",
    "##nits=modelinfo[1]\n",
    "##nvar=modelinfo[4]\n",
    "\n",
    "#header='sac_test_asc'\n",
    "header='hydro1_asc_924000.ini'\n",
    "\n",
    "dim=[2048,1024]\n",
    "ndim=2\n",
    "nfields=12\n",
    "time=t\n",
    "nits=nit\n",
    "nvar=nw\n",
    "\n",
    "\n",
    "head1=str(nits)+\" \"+str(time)+\" \"+str(ndim)+\" \"+str(nvar)+\" \"+str(nfields)\n",
    "\n",
    "if ndim==2:\n",
    "    head2=str(dim[0])+\" \"+str(dim[1])\n",
    "elif ndim==3:\n",
    "    head2=str(dim[0])+\" \"+str(dim[1])+\" \"+str(dim[2])    \n",
    "\n",
    "#warning may need to explicityly write the adiabatic parameter and correct gravitational parameters here\n",
    "head3=\"1.66667E+00  0.00000E+00  1.00000E+00  0.00000E+00  0.00000E+00  0.00000E+00\"\n",
    "\n",
    "if ndim==2:\n",
    "    head4=\"x y h m1 m2 e b1 b2 eb rhob bg1 bg2   gamma eta   grav1 grav2\"\n",
    "elif ndim==3:\n",
    "    head4=\"x y z h m1 m2 m3 e b1 b2 b3 eb rhob bg1 bg2 bg3   gamma eta   grav1 grav2 grav3\"\n",
    "\n",
    "file.write(str.encode(header))\n",
    "file.write(str.encode(head1+\"\\n\"))     \n",
    "file.write(str.encode(head2+\"\\n\"))\n",
    "file.write(str.encode(head3+\"\\n\"))\n",
    "file.write(str.encode(head4+\"\\n\"))     \n",
    "    \n",
    "if ndim==3:    \n",
    "    for i3 in range(dim[2]):\n",
    "        for i2 in range(dim[1]):\n",
    "            for i1 in range(dim[0]):\n",
    "                line=\"\"\n",
    "                for j in range(nfields):\n",
    "                    line=line+str(alldat[j,i3,i2,i1])\n",
    "                line=line+\"\\n\"\n",
    "                file.write(str.encode(line))\n",
    "                \n",
    "if ndim==2:    \n",
    "    for i2 in range(dim[1]):\n",
    "        for i1 in range(dim[0]):\n",
    "            line=\"\"\n",
    "            for j in range(nfields): \n",
    "                #print(j,i1,i2)\n",
    "                line=line+\" \"+str(alldat[j,i2,i1])\n",
    "            line=line+\"\\n\"\n",
    "            file.write(str.encode(line))          "
   ]
  },
  {
   "cell_type": "code",
   "execution_count": 5,
   "id": "11b4897a",
   "metadata": {},
   "outputs": [],
   "source": [
    "file.close()"
   ]
  },
  {
   "cell_type": "code",
   "execution_count": null,
   "id": "43c32f5c",
   "metadata": {},
   "outputs": [],
   "source": []
  }
 ],
 "metadata": {
  "kernelspec": {
   "display_name": "Python 3 (ipykernel)",
   "language": "python",
   "name": "python3"
  },
  "language_info": {
   "codemirror_mode": {
    "name": "ipython",
    "version": 3
   },
   "file_extension": ".py",
   "mimetype": "text/x-python",
   "name": "python",
   "nbconvert_exporter": "python",
   "pygments_lexer": "ipython3",
   "version": "3.7.9"
  }
 },
 "nbformat": 4,
 "nbformat_minor": 5
}
