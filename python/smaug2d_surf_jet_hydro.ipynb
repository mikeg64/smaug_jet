{
 "cells": [
  {
   "cell_type": "code",
   "execution_count": 1,
   "metadata": {},
   "outputs": [],
   "source": [
    "import numpy as np\n",
    "from numpy import *\n",
    "import scipy.io\n",
    "from scipy import special\n",
    "import matplotlib\n",
    "import matplotlib.pyplot as plt\n",
    "from mpl_toolkits.mplot3d import Axes3D\n",
    "from matplotlib import cm\n",
    "from matplotlib.ticker import LinearLocator, FormatStrFormatter\n",
    "import struct\n",
    "\n",
    "#%matplotlib inline  "
   ]
  },
  {
   "cell_type": "code",
   "execution_count": 41,
   "metadata": {},
   "outputs": [
    {
     "name": "stdout",
     "output_type": "stream",
     "text": [
      "[25165824]\n"
     ]
    }
   ],
   "source": [
    "file = open('../../smaug_jet_data/out/hydro1/hydro1_43000.out','rb')\n",
    "\n",
    "\n",
    "\n",
    "file.seek(0,2)\n",
    "eof = file.tell()\n",
    "file.seek(0,0)\n",
    "\n",
    "ndata=[0,0]\n",
    "\n",
    "name = file.read(79)\n",
    "nit = fromfile(file,dtype=int32,count=1)\n",
    "t = fromfile(file,dtype=float64,count=1)\n",
    "ndim=fromfile(file,dtype=int32,count=1)\n",
    "neqpar=fromfile(file,dtype=int32,count=1)\n",
    "nw=fromfile(file,dtype=int32,count=1)\n",
    "ndata[0]=fromfile(file,dtype=int32,count=1)\n",
    "ndata[1]=fromfile(file,dtype=int32,count=1)\n",
    "#ndata = fromfile(file,dtype=int32,count=ndim)[:ndim]\n",
    "varbuf = fromfile(file,dtype=float,count=6)[:6]\n",
    "varnames = file.read(79)\n",
    "\n",
    "\n",
    "icount=(nw+ndim)*ndata[0]*ndata[1]\n",
    "print(icount)\n",
    "alldat=fromfile(file,dtype=float64,count=25165824)\n",
    "alldat=np.reshape(alldat,(12,2048,1024,),'C')\n",
    "\n",
    "\n",
    "#typedef enum vars {rho, mom1, mom2, energy, b1, b2,energyb,rhob,b1b,b2b} CEV;\n",
    "\n",
    "#alldat=fromfile(file,dtype=float,count=(nw+ndim)*ndata[0]*ndata[1])[:(nw+ndim)*ndata[0]*ndata[1]]\n",
    "#if size(alldat)<(nw+ndim)*ndata[0]*ndata[1]:\n",
    "#    alldat=resize(alldat,(nw+ndim)*ndata[0]*ndata[1])\n",
    "#alldat=np.reshape(alldat,(nw+ndim,ndata[0],ndata[1],),'C')\n",
    "\n",
    "file.close()"
   ]
  },
  {
   "cell_type": "code",
   "execution_count": 12,
   "metadata": {},
   "outputs": [
    {
     "name": "stdout",
     "output_type": "stream",
     "text": [
      "[25165824]\n"
     ]
    },
    {
     "ename": "ValueError",
     "evalue": "I/O operation on closed file.",
     "output_type": "error",
     "traceback": [
      "\u001b[0;31m---------------------------------------------------------------------------\u001b[0m",
      "\u001b[0;31mValueError\u001b[0m                                Traceback (most recent call last)",
      "\u001b[0;32m/var/folders/jr/4mwd3hqn7lbd7vq59vqx30n80000gn/T/ipykernel_35661/793626996.py\u001b[0m in \u001b[0;36m<module>\u001b[0;34m\u001b[0m\n\u001b[1;32m      2\u001b[0m \u001b[0micount\u001b[0m\u001b[0;34m=\u001b[0m\u001b[0;34m(\u001b[0m\u001b[0mnw\u001b[0m\u001b[0;34m+\u001b[0m\u001b[0mndim\u001b[0m\u001b[0;34m)\u001b[0m\u001b[0;34m*\u001b[0m\u001b[0mndata\u001b[0m\u001b[0;34m[\u001b[0m\u001b[0;36m0\u001b[0m\u001b[0;34m]\u001b[0m\u001b[0;34m*\u001b[0m\u001b[0mndata\u001b[0m\u001b[0;34m[\u001b[0m\u001b[0;36m1\u001b[0m\u001b[0;34m]\u001b[0m\u001b[0;34m\u001b[0m\u001b[0;34m\u001b[0m\u001b[0m\n\u001b[1;32m      3\u001b[0m \u001b[0mprint\u001b[0m\u001b[0;34m(\u001b[0m\u001b[0micount\u001b[0m\u001b[0;34m)\u001b[0m\u001b[0;34m\u001b[0m\u001b[0;34m\u001b[0m\u001b[0m\n\u001b[0;32m----> 4\u001b[0;31m \u001b[0malldat\u001b[0m\u001b[0;34m=\u001b[0m\u001b[0mfromfile\u001b[0m\u001b[0;34m(\u001b[0m\u001b[0mfile\u001b[0m\u001b[0;34m,\u001b[0m\u001b[0mdtype\u001b[0m\u001b[0;34m=\u001b[0m\u001b[0mfloat64\u001b[0m\u001b[0;34m,\u001b[0m\u001b[0mcount\u001b[0m\u001b[0;34m=\u001b[0m\u001b[0;36m25264128\u001b[0m\u001b[0;34m)\u001b[0m\u001b[0;34m\u001b[0m\u001b[0;34m\u001b[0m\u001b[0m\n\u001b[0m\u001b[1;32m      5\u001b[0m \u001b[0malldat\u001b[0m\u001b[0;34m=\u001b[0m\u001b[0mnp\u001b[0m\u001b[0;34m.\u001b[0m\u001b[0mreshape\u001b[0m\u001b[0;34m(\u001b[0m\u001b[0malldat\u001b[0m\u001b[0;34m,\u001b[0m\u001b[0;34m(\u001b[0m\u001b[0;36m12\u001b[0m\u001b[0;34m,\u001b[0m\u001b[0;36m1028\u001b[0m\u001b[0;34m,\u001b[0m\u001b[0;36m2048\u001b[0m\u001b[0;34m,\u001b[0m\u001b[0;34m)\u001b[0m\u001b[0;34m,\u001b[0m\u001b[0;34m'C'\u001b[0m\u001b[0;34m)\u001b[0m\u001b[0;34m\u001b[0m\u001b[0;34m\u001b[0m\u001b[0m\n\u001b[1;32m      6\u001b[0m \u001b[0;31m#np.zeros(s,dtype=float64)\u001b[0m\u001b[0;34m\u001b[0m\u001b[0;34m\u001b[0m\u001b[0;34m\u001b[0m\u001b[0m\n",
      "\u001b[0;31mValueError\u001b[0m: I/O operation on closed file."
     ]
    }
   ],
   "source": [
    "\n",
    "#alldat=np.zeros((1028, 2048))\n",
    "icount=(nw+ndim)*ndata[0]*ndata[1]\n",
    "print(icount)\n",
    "alldat=fromfile(file,dtype=float64,count=25264128)\n",
    "alldat=np.reshape(alldat,(12,2048,1024,),'C')\n",
    "#np.zeros(s,dtype=float64)\n"
   ]
  },
  {
   "cell_type": "code",
   "execution_count": 13,
   "metadata": {},
   "outputs": [
    {
     "name": "stdout",
     "output_type": "stream",
     "text": [
      "[2]\n",
      "[array([1024], dtype=int32), array([2048], dtype=int32)]\n"
     ]
    }
   ],
   "source": [
    "print(ndim)\n",
    "print(ndata)"
   ]
  },
  {
   "cell_type": "code",
   "execution_count": 26,
   "metadata": {},
   "outputs": [
    {
     "name": "stdout",
     "output_type": "stream",
     "text": [
      "(12, 2048, 1024)\n",
      "[[2.87785504e-11 1.34268146e-11 0.00000000e+00 ... 1.36126869e-10\n",
      "  1.77866560e-10 2.21986537e-10]\n",
      " [2.87640472e-11 1.32113923e-11 0.00000000e+00 ... 1.35585992e-10\n",
      "  1.78944329e-10 2.23601828e-10]\n",
      " [2.87250342e-11 1.30577326e-11 0.00000000e+00 ... 1.35377066e-10\n",
      "  1.79432740e-10 2.24730240e-10]\n",
      " ...\n",
      " [2.48564914e-11 1.25872621e-11 0.00000000e+00 ... 1.08169966e-10\n",
      "  1.39381186e-10 1.76958816e-10]\n",
      " [2.48187976e-11 1.25680131e-11 0.00000000e+00 ... 1.08018155e-10\n",
      "  1.39193901e-10 1.76728799e-10]\n",
      " [2.47793056e-11 1.25478331e-11 0.00000000e+00 ... 1.07864297e-10\n",
      "  1.39004054e-10 1.76496190e-10]]\n"
     ]
    }
   ],
   "source": [
    "print(np.shape(alldat))\n",
    "print(alldat[4,480:680,0:10])"
   ]
  },
  {
   "cell_type": "code",
   "execution_count": 15,
   "metadata": {},
   "outputs": [
    {
     "name": "stdout",
     "output_type": "stream",
     "text": [
      "varnames: b'x y rho mx my e bx by  gamma eta g1 g2\\x00\\x00\\x00\\x00\\x00\\x00\\x00\\x00\\x00\\x00\\x00\\x00\\x00\\x00\\x00\\x00\\x00\\x00\\xc0\\x15\\x9c3\\x00\\x00\\x00\\x00\\x00\\x00\\x00\\x00\\x00\\x00\\x00\\x00\\xb8\\x03\\x00\\x00\\x00\\x00\\x00'\n",
      "nit: [265000]\n",
      "name: b'test1\\x00\\x00\\x00\\x00\\x00\\x00\\x00\\x00\\x00\\x00\\x00\\x00\\x00\\x00\\x00\\x00\\x00\\x00\\x00\\x00\\x00\\x00\\x00\\x00\\x00\\x00\\x00\\x00\\x00\\x00\\x00\\x00\\x00\\x00\\x00\\x00\\x00\\x00\\x00\\x00\\x00\\x00\\x00\\x00\\x00\\x00\\x00\\x00\\x00\\x00\\x00\\x00\\x00\\x00\\x00\\x00\\x00\\x00\\x00\\x00\\x00\\x00\\x00\\x00\\x00\\x00\\x00\\x00\\x00\\x00\\x00\\x00\\x00\\x00'\n",
      "t: [265.001]\n",
      "ndim: [2]\n",
      "neqpar: [6]\n",
      "nw: [10]\n",
      "varbuf: [1.66667 0.      0.      0.      0.      0.     ]\n"
     ]
    }
   ],
   "source": [
    "print( 'varnames:',varnames)\n",
    "print( 'nit:',nit)\n",
    "print( 'name:',name)\n",
    "print( 't:',t)\n",
    "print( 'ndim:',ndim)\n",
    "print( 'neqpar:',neqpar)\n",
    "print( 'nw:',nw)\n",
    "print( 'varbuf:',varbuf)"
   ]
  },
  {
   "cell_type": "code",
   "execution_count": 42,
   "metadata": {},
   "outputs": [
    {
     "name": "stdout",
     "output_type": "stream",
     "text": [
      "(12, 2048, 1024)\n",
      "(2048, 1024)\n"
     ]
    },
    {
     "data": {
      "image/png": "[encoded data removed]",
      "text/plain": [
       "<Figure size 432x288 with 2 Axes>"
      ]
     },
     "metadata": {
      "needs_background": "light"
     },
     "output_type": "display_data"
    }
   ],
   "source": [
    "dat=alldat[4,:,:]\n",
    "datmom=alldat[4,:,:]/(alldat[2,:,:]+alldat[9,:,:])\n",
    "print(shape(alldat))\n",
    "print(shape(dat))\n",
    "plt.imshow(dat)\n",
    "\n",
    "#plt.imshow(dat,cmap='seismic',vmin=0.00000001,vmax=0.000001)\n",
    "#plt.imshow(dat,cmap='seismic')\n",
    "plt.imshow(datmom,cmap='seismic',vmin=-50,vmax=30)\n",
    "#plt.imshow(datmom,cmap='seismic')\n",
    "\n",
    "plt.colorbar()\n",
    "plt.show()\n",
    "\n"
   ]
  },
  {
   "cell_type": "code",
   "execution_count": 28,
   "metadata": {},
   "outputs": [
    {
     "data": {
      "image/png": "[encoded data removed]",
      "text/plain": [
       "<Figure size 432x288 with 1 Axes>"
      ]
     },
     "metadata": {
      "needs_background": "light"
     },
     "output_type": "display_data"
    },
    {
     "name": "stdout",
     "output_type": "stream",
     "text": [
      "[-6.36142587e-08 -3.12000557e-08  0.00000000e+00 ...  0.00000000e+00\n",
      " -1.91211451e-12 -3.72484122e-12]\n"
     ]
    }
   ],
   "source": [
    "yv = alldat[1,:,5]\n",
    "fv=alldat[3,:,5]\n",
    "plt.plot(yv, fv)\n",
    "fv=alldat[3,:,100]\n",
    "plt.plot(yv, fv)\n",
    "plt.title('A simple chirp')\n",
    "plt.show()\n",
    "\n",
    "#print(yv[0:800])\n",
    "print(fv)"
   ]
  },
  {
   "cell_type": "code",
   "execution_count": 18,
   "metadata": {},
   "outputs": [
    {
     "name": "stderr",
     "output_type": "stream",
     "text": [
      "/Users/mikegriffiths/anaconda3/lib/python3.7/site-packages/ipykernel_launcher.py:2: MatplotlibDeprecationWarning: Calling gca() with keyword arguments was deprecated in Matplotlib 3.4. Starting two minor releases later, gca() will take no keyword arguments. The gca() function should only be used to get the current axes, or if no axes exist, create new axes with default keyword arguments. To create a new axes with non-default arguments, use plt.axes() or plt.subplot().\n",
      "  \n"
     ]
    },
    {
     "data": {
      "image/png": "[encoded data removed]",
      "text/plain": [
       "<Figure size 432x288 with 2 Axes>"
      ]
     },
     "metadata": {
      "needs_background": "light"
     },
     "output_type": "display_data"
    }
   ],
   "source": [
    "fig = plt.figure()\n",
    "ax = fig.gca(projection='3d')\n",
    "X = alldat[0,:,:]\n",
    "Y = alldat[1,:,:]\n",
    "\n",
    "\n",
    "dens = alldat[2,:,:]\n",
    "#bsq=alldat[6,:,:]*alldat[6,:,:]+alldat[7,:,:]*alldat[7,:,:]\n",
    "#bmag=sqrt(bsq)\n",
    "\n",
    "surf = ax.plot_surface(X, Y, dens, rstride=1, cstride=1, cmap=cm.coolwarm,\n",
    "                       linewidth=0, antialiased=False)\n",
    "#ax.set_zlim(-1.01, 1.01)\n",
    "\n",
    "#ax.zaxis.set_major_locator(LinearLocator(10))\n",
    "#ax.zaxis.set_major_formatter(FormatStrFormatter('%.02f'))\n",
    "ax.view_init(elev=90,azim=0) \n",
    "fig.colorbar(surf, shrink=0.5, aspect=5)\n",
    "\n",
    "plt.show()"
   ]
  },
  {
   "cell_type": "code",
   "execution_count": null,
   "metadata": {},
   "outputs": [],
   "source": [
    "fig = plt.figure(figsize=plt.figaspect(1.))\n",
    "ax = fig.add_subplot(2, 1, 1,projection='3d')\n",
    "\n",
    "#X = alldat[0,:,:]\n",
    "#Y = alldat[1,:,:]\n",
    "\n",
    "\n",
    "energy = alldat[5,:,:]\n",
    "bsq=alldat[6,:,:]*alldat[6,:,:]+alldat[7,:,:]*alldat[7,:,:]\n",
    "bmag=sqrt(bsq)\n",
    "\n",
    "surf = ax.plot_surface(X, Y, energy, rstride=1, cstride=1, cmap=cm.coolwarm,\n",
    "                       linewidth=0, antialiased=False)\n",
    "#ax.set_zlim(-1.01, 1.01)\n",
    "\n",
    "#ax.zaxis.set_major_locator(LinearLocator(10))\n",
    "#ax.zaxis.set_major_formatter(FormatStrFormatter('%.02f'))\n",
    "ax.view_init(elev=90,azim=0) \n",
    "fig.colorbar(surf, shrink=0.5, aspect=5)\n",
    "\n",
    "\n",
    "\n",
    "ax = fig.add_subplot(2, 1, 2,projection='3d')\n",
    "surf = ax.plot_surface(X, Y, bmag, rstride=1, cstride=1, cmap=cm.coolwarm,\n",
    "                       linewidth=0, antialiased=False)\n",
    "#ax.set_zlim(-1.01, 1.01)\n",
    "\n",
    "#ax.zaxis.set_major_locator(LinearLocator(10))\n",
    "#ax.zaxis.set_major_formatter(FormatStrFormatter('%.02f'))\n",
    "ax.view_init(elev=90,azim=0) \n",
    "fig.colorbar(surf, shrink=0.5, aspect=5)\n",
    "\n",
    "plt.show()"
   ]
  },
  {
   "cell_type": "code",
   "execution_count": null,
   "metadata": {
    "collapsed": true
   },
   "outputs": [],
   "source": []
  }
 ],
 "metadata": {
  "anaconda-cloud": {},
  "kernelspec": {
   "display_name": "Python 3 (ipykernel)",
   "language": "python",
   "name": "python3"
  },
  "language_info": {
   "codemirror_mode": {
    "name": "ipython",
    "version": 3
   },
   "file_extension": ".py",
   "mimetype": "text/x-python",
   "name": "python",
   "nbconvert_exporter": "python",
   "pygments_lexer": "ipython3",
   "version": "3.7.9"
  }
 },
 "nbformat": 4,
 "nbformat_minor": 2
}
